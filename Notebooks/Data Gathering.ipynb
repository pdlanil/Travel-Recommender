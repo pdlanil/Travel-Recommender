{
 "cells": [
  {
   "cell_type": "code",
   "execution_count": 1,
   "id": "a5f6bee3-17f4-4896-9dbc-b8af553333b2",
   "metadata": {},
   "outputs": [],
   "source": [
    "# Importing necessary packages for data extraction from tripadvisor\n",
    "\n",
    "import requests\n",
    "from bs4 import BeautifulSoup\n",
    "\n",
    "import pandas as pd"
   ]
  },
  {
   "cell_type": "code",
   "execution_count": null,
   "id": "ce3b9320-951f-43ad-88cb-db755b4885bb",
   "metadata": {},
   "outputs": [],
   "source": [
    "# Use url for London from TripAdvisor\n",
    "html_london = requests.get('https://www.tripadvisor.com/Attraction_Products-g186338-zfg12131-London_England.html')\n",
    "soup = BeautifulSoup(html_london.content, 'html.parser')\n",
    "\n",
    "\n"
   ]
  }
 ],
 "metadata": {
  "kernelspec": {
   "display_name": "Python 3 (ipykernel)",
   "language": "python",
   "name": "python3"
  },
  "language_info": {
   "codemirror_mode": {
    "name": "ipython",
    "version": 3
   },
   "file_extension": ".py",
   "mimetype": "text/x-python",
   "name": "python",
   "nbconvert_exporter": "python",
   "pygments_lexer": "ipython3",
   "version": "3.11.4"
  }
 },
 "nbformat": 4,
 "nbformat_minor": 5
}
